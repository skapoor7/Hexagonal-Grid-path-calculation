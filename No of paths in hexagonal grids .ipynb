{
 "cells": [
  {
   "cell_type": "code",
   "execution_count": null,
   "metadata": {
    "collapsed": true
   },
   "outputs": [],
   "source": [
    "class memoize(dict):\n",
    "    def __init__(self, func):\n",
    "            self.func = func\n",
    "\n",
    "    def __call__(self, *args):\n",
    "        return self[args]\n",
    "\n",
    "    def __missing__(self, key):\n",
    "        result = self[key] = self.func(*key)\n",
    "        return result\n",
    "\n",
    "\n",
    "@memoize\n",
    "\n",
    "def path1(x,y,k):\n",
    "    pathcount=0\n",
    "    if k >0:\n",
    "        if k==1 & abs(x)==0&abs(y)==0:\n",
    "            pathcount=0\n",
    "        if k==1:\n",
    "            if((abs(x)==1 or abs(y)==1) & (abs(x)+abs(y)<=2) & (x!=y)):\n",
    "                pathcount=1\n",
    "            else:\n",
    "                pathcount=0\n",
    "        else:\n",
    "            pathcount = pathcount + path1(x-1,y,k-1) + path1(x,y-1,k-1) + path1(x+1,y,k-1) + path1(x,y+1,k-1) + path1(x+1,y-1,k-1) + path1(x-1,y+1,k-1)\n",
    "    return pathcount\n"
   ]
  }
 ],
 "metadata": {
  "kernelspec": {
   "display_name": "Python 2",
   "language": "python",
   "name": "python2"
  },
  "language_info": {
   "codemirror_mode": {
    "name": "ipython",
    "version": 2
   },
   "file_extension": ".py",
   "mimetype": "text/x-python",
   "name": "python",
   "nbconvert_exporter": "python",
   "pygments_lexer": "ipython2",
   "version": "2.7.14"
  }
 },
 "nbformat": 4,
 "nbformat_minor": 2
}
